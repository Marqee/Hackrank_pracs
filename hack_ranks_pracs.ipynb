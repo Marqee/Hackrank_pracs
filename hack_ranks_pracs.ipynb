{
 "cells": [
  {
   "cell_type": "markdown",
   "metadata": {},
   "source": [
    "How many pairs of socks. Given n and array"
   ]
  },
  {
   "cell_type": "code",
   "execution_count": 1,
   "metadata": {},
   "outputs": [
    {
     "data": {
      "text/plain": [
       "3"
      ]
     },
     "execution_count": 1,
     "metadata": {},
     "output_type": "execute_result"
    }
   ],
   "source": [
    "import numpy as np\n",
    "nn = 9\n",
    "sock1= np.array([10, 20, 20, 10, 10, 30, 50, 10, 20])\n",
    "\n",
    "def sockss(n,ar):\n",
    "    from collections import Counter\n",
    "    valss=list(Counter(ar).values())\n",
    "    pairs=[]\n",
    "    for i in valss:\n",
    "        pairs.append(int(i / 2))\n",
    "    return sum(pairs)\n",
    "\n",
    "sockss(nn,sock1)"
   ]
  },
  {
   "cell_type": "markdown",
   "metadata": {},
   "source": [
    "Number of valleys given number of steps=n and s-string of steps"
   ]
  },
  {
   "cell_type": "code",
   "execution_count": 2,
   "metadata": {},
   "outputs": [
    {
     "data": {
      "text/plain": [
       "2"
      ]
     },
     "execution_count": 2,
     "metadata": {},
     "output_type": "execute_result"
    }
   ],
   "source": [
    "n = 8\n",
    "s = 'UDDUDDDUD'\n",
    "\n",
    "def climbs1(n,s):\n",
    "    l=0\n",
    "    valley=0\n",
    "    for i in range(n):\n",
    "        for j in s:\n",
    "            if l == 0:\n",
    "                if j == 'D':\n",
    "                    valley = valley +1\n",
    "            if j == 'U':\n",
    "                l=l+1\n",
    "            if j == 'D':\n",
    "                l=l-1\n",
    "            \n",
    "        return valley\n",
    "\n",
    "climbs1(n,s)"
   ]
  },
  {
   "cell_type": "markdown",
   "metadata": {},
   "source": [
    "Minimun steps to jump all clouds given string of clouds"
   ]
  },
  {
   "cell_type": "code",
   "execution_count": 3,
   "metadata": {},
   "outputs": [
    {
     "data": {
      "text/plain": [
       "3"
      ]
     },
     "execution_count": 3,
     "metadata": {},
     "output_type": "execute_result"
    }
   ],
   "source": [
    "xxx=[0, 0, 0, 1, 0, 0]\n",
    "\n",
    "def jumpClouds1(c):\n",
    "    idx=0\n",
    "    jumps=0\n",
    "    while idx < len(c)-1:\n",
    "        if idx+2 < len(c) and c[idx+2] != 1:\n",
    "            idx+=1\n",
    "        jumps +=1\n",
    "        idx+=1\n",
    "    return jumps\n",
    "\n",
    "jumpClouds1(xxx)"
   ]
  },
  {
   "cell_type": "markdown",
   "metadata": {},
   "source": [
    "Repeated strings - amount of times a string is repeated. Given 'a' and amount of characters in string"
   ]
  },
  {
   "cell_type": "code",
   "execution_count": 4,
   "metadata": {},
   "outputs": [
    {
     "data": {
      "text/plain": [
       "10000"
      ]
     },
     "execution_count": 4,
     "metadata": {},
     "output_type": "execute_result"
    }
   ],
   "source": [
    "l='a'\n",
    "f=10000\n",
    "\n",
    "def rptString1(s, n):\n",
    "    acnt = s.count('a')\n",
    "    wnum = n//len(s)\n",
    "    mod = n%len(s)\n",
    "    return acnt*wnum + s[:mod].count('a')\n",
    "\n",
    "rptString1(l, f)"
   ]
  },
  {
   "cell_type": "markdown",
   "metadata": {},
   "source": [
    "Complete the maximumToys function below."
   ]
  },
  {
   "cell_type": "code",
   "execution_count": 6,
   "metadata": {},
   "outputs": [
    {
     "data": {
      "text/plain": [
       "4"
      ]
     },
     "execution_count": 6,
     "metadata": {},
     "output_type": "execute_result"
    }
   ],
   "source": [
    "n=7 \n",
    "budget=50\n",
    "toys=[int(i) for i in '1 12 5 111 200 1000 10'.split()]\n",
    "\n",
    "def maxToys1(prices, k):\n",
    "    budget=k\n",
    "    bucket=[]\n",
    "    prices=sorted(prices)\n",
    "    for i in prices:\n",
    "        if budget - i > 0:\n",
    "            bucket.append(i)\n",
    "            budget=budget-i\n",
    "        if i > budget:\n",
    "            return len(bucket)\n",
    "        \n",
    "maxToys1(toys,budget)"
   ]
  },
  {
   "cell_type": "markdown",
   "metadata": {},
   "source": [
    "Complete the hourglassSum function below. Sum of hours given an array"
   ]
  },
  {
   "cell_type": "code",
   "execution_count": 7,
   "metadata": {},
   "outputs": [
    {
     "data": {
      "text/plain": [
       "35"
      ]
     },
     "execution_count": 7,
     "metadata": {},
     "output_type": "execute_result"
    }
   ],
   "source": [
    "arr = np.array([[1,9,1,4,6,0],\n",
    "                [2,7,2,1,3,2],\n",
    "                [1,7,1,10,4,1],\n",
    "                [1,15,1,1,0,1],\n",
    "                [1,2,0,7,0,1],\n",
    "                [1,7,2,1,1,1]])\n",
    "\n",
    "def hgSum(arr):\n",
    "    testings=[]\n",
    "    for i in range(len(arr)-2):\n",
    "        for j in range(len(arr)-2):\n",
    "            if i ==4 and j==4:\n",
    "                testings.append(sum(arr[i-1][j-1:j+3])+arr[i][j]+sum(arr[i+1][j-1:j+3]))\n",
    "            if i== 4:\n",
    "                testings.append(sum(arr[i-1][j:j+3])+arr[i][j+1]+sum(arr[i+1][j-1:j+3]))\n",
    "            else:\n",
    "                testings.append(sum(arr[i][j:j+3])+arr[i+1][j+1]+sum(arr[i+2][j:j+3]))\n",
    "    return max(testings)\n",
    "\n",
    "hgSum(arr)"
   ]
  },
  {
   "cell_type": "markdown",
   "metadata": {},
   "source": [
    "Number of left rotations. given string and number of rotations"
   ]
  },
  {
   "cell_type": "code",
   "execution_count": 8,
   "metadata": {},
   "outputs": [
    {
     "data": {
      "text/plain": [
       "[2, 3, 4, 5, 6, 7, 1]"
      ]
     },
     "execution_count": 8,
     "metadata": {},
     "output_type": "execute_result"
    }
   ],
   "source": [
    "a =[1, 2, 3, 4, 5, 6, 7]\n",
    "d=15\n",
    "\n",
    "def rLeft(a,d):\n",
    "    b=0\n",
    "    while b != d:\n",
    "        a.append(a[0])\n",
    "        a.pop(0)\n",
    "        b=b+1\n",
    "    return a\n",
    "\n",
    "rLeft(a,d)"
   ]
  },
  {
   "cell_type": "markdown",
   "metadata": {},
   "source": [
    "Sort list by Score and then by Name. Given list of names and scores"
   ]
  },
  {
   "cell_type": "code",
   "execution_count": 9,
   "metadata": {},
   "outputs": [
    {
     "data": {
      "text/plain": [
       "[['amy', 200],\n",
       " ['aleksa', 200],\n",
       " ['zeke', 150],\n",
       " ['barry', 130],\n",
       " ['carlo', 130],\n",
       " ['david', 130],\n",
       " ['aakansha', 75],\n",
       " ['heraldo', 75]]"
      ]
     },
     "execution_count": 9,
     "metadata": {},
     "output_type": "execute_result"
    }
   ],
   "source": [
    "scores=[['amy', 200],['carlo', 130], ['heraldo', 75],['david', 130], ['aakansha', 75],['barry', 130],['zeke',150], ['aleksa', 200]]\n",
    "\n",
    "def compare1(lst):\n",
    "    templist=[]\n",
    "    sort_name=[]\n",
    "    sortlst=sorted(lst,key=lambda x:x[1],reverse=True)\n",
    "    for ex,i in enumerate(sortlst):\n",
    "        if len(sort_name) == 0:\n",
    "            sort_name.append(i)\n",
    "        elif i[1] != sort_name[-1][1]:\n",
    "            sort_name.append(i)\n",
    "        elif i[1]==sort_name[-1][1] and i[0] > sort_name[-1][0]:\n",
    "            sort_name.append(i)\n",
    "        elif i[1]==sort_name[-1][1] and i[0] < sort_name[-1][0] and len(sort_name)==1:\n",
    "            sort_name.insert(ex,i)\n",
    "        elif i[1]==sort_name[-1][1] and i[0] < sort_name[-1][0]:\n",
    "            templist=sort_name[:]\n",
    "            for idx,j in enumerate(sort_name):\n",
    "                if i[1]==j[1] and i[0] > j[0]:\n",
    "                    templist.insert(idx+1,i)\n",
    "                    sort_name=templist[:]\n",
    "                    templist=[]\n",
    "                    break\n",
    "\n",
    "                elif i[1]==j[1] and i[0] < j[0] and sort_name[idx-1][1] >= i[1]:\n",
    "                    templist.insert(idx,i)\n",
    "                    sort_name=templist[:]\n",
    "                    templist=[]\n",
    "                    break\n",
    "        \n",
    "    return sort_name\n",
    "\n",
    "compare1(scores)"
   ]
  },
  {
   "cell_type": "code",
   "execution_count": null,
   "metadata": {},
   "outputs": [],
   "source": []
  }
 ],
 "metadata": {
  "kernelspec": {
   "display_name": "Python 3",
   "language": "python",
   "name": "python3"
  },
  "language_info": {
   "codemirror_mode": {
    "name": "ipython",
    "version": 3
   },
   "file_extension": ".py",
   "mimetype": "text/x-python",
   "name": "python",
   "nbconvert_exporter": "python",
   "pygments_lexer": "ipython3",
   "version": "3.7.4"
  }
 },
 "nbformat": 4,
 "nbformat_minor": 2
}
